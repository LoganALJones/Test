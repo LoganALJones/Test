{
 "cells": [
  {
   "cell_type": "code",
   "execution_count": 1,
   "id": "23008471-531c-47a9-bca5-b753f7ba92e3",
   "metadata": {},
   "outputs": [],
   "source": [
    "import torch"
   ]
  },
  {
   "cell_type": "code",
   "execution_count": 2,
   "id": "aa6a0a0e-89ef-47f5-9627-b4cd9a08ad7e",
   "metadata": {},
   "outputs": [
    {
     "data": {
      "text/plain": [
       "tensor([[[0.0109, 0.4760, 0.3131],\n",
       "         [0.4085, 0.5765, 0.2722],\n",
       "         [0.8184, 0.9439, 0.2558]],\n",
       "\n",
       "        [[0.8741, 0.6409, 0.8455],\n",
       "         [0.8614, 0.3156, 0.6686],\n",
       "         [0.1109, 0.3784, 0.2017]],\n",
       "\n",
       "        [[0.6747, 0.9823, 0.7203],\n",
       "         [0.9714, 0.1120, 0.2139],\n",
       "         [0.9817, 0.1342, 0.7684]]])"
      ]
     },
     "execution_count": 2,
     "metadata": {},
     "output_type": "execute_result"
    }
   ],
   "source": [
    "torch.rand(3,3,3)"
   ]
  }
 ],
 "metadata": {
  "kernelspec": {
   "display_name": "Python 3 (ipykernel)",
   "language": "python",
   "name": "python3"
  },
  "language_info": {
   "codemirror_mode": {
    "name": "ipython",
    "version": 3
   },
   "file_extension": ".py",
   "mimetype": "text/x-python",
   "name": "python",
   "nbconvert_exporter": "python",
   "pygments_lexer": "ipython3",
   "version": "3.10.13"
  }
 },
 "nbformat": 4,
 "nbformat_minor": 5
}
